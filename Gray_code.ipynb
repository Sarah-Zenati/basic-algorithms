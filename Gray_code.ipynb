{
 "cells": [
  {
   "cell_type": "code",
   "execution_count": 4,
   "id": "9d51330b",
   "metadata": {},
   "outputs": [],
   "source": [
    "#Code de Gray\n",
    "\n",
    "def poids(x):\n",
    "  s = 0\n",
    "  for y in x :\n",
    "   if y != 0:\n",
    "     s += 1\n",
    "  return s\n",
    "\n",
    "def successeurGray(n,x):\n",
    "  a = poids(x)\n",
    "  y = x\n",
    "  if x == [1] + [0]*(n-1):\n",
    "    return y\n",
    "  if a%2 == 0:\n",
    "    y[n-1] = 1 - x[n-1]\n",
    "    return y\n",
    "  elif a%2 != 0:\n",
    "    for i in range(len(x)-1, -1,-1):\n",
    "      if x[i] == 1 :\n",
    "        y[i-1] = 1-x[i-1]\n",
    "        return y \n",
    "\n"
   ]
  },
  {
   "cell_type": "code",
   "execution_count": null,
   "id": "06d968a4",
   "metadata": {},
   "outputs": [],
   "source": []
  }
 ],
 "metadata": {
  "kernelspec": {
   "display_name": "Python 3 (ipykernel)",
   "language": "python",
   "name": "python3"
  },
  "language_info": {
   "codemirror_mode": {
    "name": "ipython",
    "version": 3
   },
   "file_extension": ".py",
   "mimetype": "text/x-python",
   "name": "python",
   "nbconvert_exporter": "python",
   "pygments_lexer": "ipython3",
   "version": "3.9.12"
  }
 },
 "nbformat": 4,
 "nbformat_minor": 5
}
