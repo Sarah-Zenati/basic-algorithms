{
 "cells": [
  {
   "cell_type": "markdown",
   "id": "4d9388d8",
   "metadata": {},
   "source": [
    "## LU Decomposition, SVD and Applications"
   ]
  },
  {
   "cell_type": "code",
   "execution_count": 1,
   "id": "c32c1d5e",
   "metadata": {},
   "outputs": [
    {
     "data": {
      "text/plain": [
       "<Figure size 432x288 with 0 Axes>"
      ]
     },
     "metadata": {},
     "output_type": "display_data"
    }
   ],
   "source": [
    "import numpy as np\n",
    "import numpy.linalg as la\n",
    "import matplotlib.pyplot as plt\n",
    "import scipy.linalg as scl\n",
    "\n",
    "plt.set_cmap('gray')"
   ]
  },
  {
   "cell_type": "markdown",
   "id": "4e336b22",
   "metadata": {},
   "source": [
    "## Resolution of linear systems through LU factorization"
   ]
  },
  {
   "cell_type": "code",
   "execution_count": 3,
   "id": "3d7b2162",
   "metadata": {},
   "outputs": [],
   "source": [
    "def descente(L,y):\n",
    "    \n",
    "    n = y.size\n",
    "    x = np.zeros(n)\n",
    "    \n",
    "    for k in range(n):\n",
    "        s=y[k];\n",
    "        \n",
    "        for i in range(k):\n",
    "            s=s-L[k,i]*x[i]\n",
    "        \n",
    "        x[k]=s/L[k,k]\n",
    "    return x    "
   ]
  },
  {
   "cell_type": "code",
   "execution_count": 4,
   "id": "ceea185a",
   "metadata": {},
   "outputs": [
    {
     "name": "stdout",
     "output_type": "stream",
     "text": [
      "[  1.   -2.5 -10. ]\n",
      "[  1.   -2.5 -10. ]\n"
     ]
    },
    {
     "data": {
      "text/plain": [
       "array([0., 0., 0.])"
      ]
     },
     "execution_count": 4,
     "metadata": {},
     "output_type": "execute_result"
    }
   ],
   "source": [
    "# Test \n",
    "\n",
    "L = np.array([[2,0,0],[4,2,0],[6,-2,1]])\n",
    "\n",
    "y = np.array([2,-1,1])\n",
    "\n",
    "x1 = la.solve(L, y)\n",
    "print(x1)\n",
    "x2 = descente(L,y)\n",
    "\n",
    "print(x2)\n",
    "\n",
    "# test \n",
    "L@x2 - y"
   ]
  },
  {
   "cell_type": "code",
   "execution_count": 5,
   "id": "a78bad8f",
   "metadata": {},
   "outputs": [],
   "source": [
    "def montee(U,y):\n",
    "    \n",
    "\n",
    "    n=np.size(y)\n",
    "    x=np.zeros(n);\n",
    "    for k in range(n-1,-1,-1): \n",
    "        s=y[k];\n",
    "        \n",
    "        for j in range(k+1,n):\n",
    "            s=s-U[k,j]*x[j]\n",
    "            \n",
    "        x[k]=s/U[k,k]\n",
    "    return x"
   ]
  },
  {
   "cell_type": "code",
   "execution_count": 6,
   "id": "ad529cf2",
   "metadata": {},
   "outputs": [
    {
     "name": "stdout",
     "output_type": "stream",
     "text": [
      "[ 0.3 -0.4  0.5]\n",
      "[ 0.3 -0.4  0.5]\n"
     ]
    }
   ],
   "source": [
    "# Test \n",
    "\n",
    "U = np.array([[2,-1,2],[0,5,2],[0,0,2]])\n",
    "\n",
    "y = np.array([2,-1,1])\n",
    "\n",
    "x1 = la.solve(U, y)\n",
    "\n",
    "print(x1)\n",
    "\n",
    "x2 = montee(U,y)\n",
    "\n",
    "print(x2)"
   ]
  },
  {
   "cell_type": "code",
   "execution_count": 7,
   "id": "bf7cb0b2",
   "metadata": {},
   "outputs": [],
   "source": [
    "def solveLU(A,b):\n",
    "    \n",
    "    P, L, U = scl.lu(A)\n",
    "    z = P.T@b\n",
    "    y = descente(L,z)\n",
    "    x = montee(U,y)\n",
    "    \n",
    "    return x"
   ]
  },
  {
   "cell_type": "code",
   "execution_count": 8,
   "id": "55a4f142",
   "metadata": {},
   "outputs": [
    {
     "name": "stdout",
     "output_type": "stream",
     "text": [
      "[-1.00000000e+00 -3.00000000e+00  1.11022302e-16]\n",
      "[-1.00000000e+00 -3.00000000e+00  1.11022302e-16]\n",
      "différence : 0.0\n"
     ]
    }
   ],
   "source": [
    "A = np.array([[2,-1,1],[4,-1,4],[6,-2,8]])\n",
    "b = np.array([1,-1,0])\n",
    "\n",
    "x = solveLU(A,b)\n",
    "print(x)\n",
    "\n",
    "x1 = np.linalg.solve(A, b)\n",
    "print(x1)\n",
    "\n",
    "print('différence :', np.linalg.norm(x-x1))"
   ]
  }
 ],
 "metadata": {
  "kernelspec": {
   "display_name": "Python 3 (ipykernel)",
   "language": "python",
   "name": "python3"
  },
  "language_info": {
   "codemirror_mode": {
    "name": "ipython",
    "version": 3
   },
   "file_extension": ".py",
   "mimetype": "text/x-python",
   "name": "python",
   "nbconvert_exporter": "python",
   "pygments_lexer": "ipython3",
   "version": "3.9.12"
  }
 },
 "nbformat": 4,
 "nbformat_minor": 5
}
