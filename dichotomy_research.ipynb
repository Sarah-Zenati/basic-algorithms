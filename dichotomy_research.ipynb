{
 "cells": [
  {
   "cell_type": "code",
   "execution_count": null,
   "id": "da7c2e31",
   "metadata": {},
   "outputs": [],
   "source": [
    "def dichotomie(a,b,prec):\n",
    "  while b-a>prec:\n",
    "  c = (a+b)/2\n",
    "    if f(a)*f(c) <= 0:\n",
    "      b = c\n",
    "    else:\n",
    "      a = c\n",
    "  return a,b"
   ]
  }
 ],
 "metadata": {
  "kernelspec": {
   "display_name": "Python 3 (ipykernel)",
   "language": "python",
   "name": "python3"
  },
  "language_info": {
   "codemirror_mode": {
    "name": "ipython",
    "version": 3
   },
   "file_extension": ".py",
   "mimetype": "text/x-python",
   "name": "python",
   "nbconvert_exporter": "python",
   "pygments_lexer": "ipython3",
   "version": "3.9.12"
  }
 },
 "nbformat": 4,
 "nbformat_minor": 5
}
