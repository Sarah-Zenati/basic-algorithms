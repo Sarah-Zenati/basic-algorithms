{
 "cells": [
  {
   "cell_type": "markdown",
   "metadata": {},
   "source": [
    "In this notebook, I will be presenting very basic algorithms to understand how to do lists in python as well as loops.\n",
    "\n",
    "We start by implementing a null matrix and check the implementation for a 9x3 matrix."
   ]
  },
  {
   "cell_type": "code",
   "execution_count": 2,
   "metadata": {
    "colab": {
     "base_uri": "https://localhost:8080/"
    },
    "executionInfo": {
     "elapsed": 363,
     "status": "ok",
     "timestamp": 1664283300846,
     "user": {
      "displayName": "Ermilsonn DERYS",
      "userId": "14723043150314271648"
     },
     "user_tz": -120
    },
    "id": "JvCoK4MDIcqQ",
    "outputId": "bbfff621-7aa2-4c5e-860b-039dbffd8a96"
   },
   "outputs": [
    {
     "data": {
      "text/plain": [
       "[[0, 0, 0],\n",
       " [0, 0, 0],\n",
       " [0, 0, 0],\n",
       " [0, 0, 0],\n",
       " [0, 0, 0],\n",
       " [0, 0, 0],\n",
       " [0, 0, 0],\n",
       " [0, 0, 0]]"
      ]
     },
     "execution_count": 2,
     "metadata": {},
     "output_type": "execute_result"
    }
   ],
   "source": [
    "# Produit de matrice \n",
    "def matricenulle(n,p):\n",
    "  s = []\n",
    "  for i in range(n):\n",
    "    s.append([])\n",
    "    for j in range(p):\n",
    "      s[i].append(0)\n",
    "  return s\n",
    "\n",
    "\n",
    "  \n",
    "def produitMatrices(A,B):\n",
    "  s = matricenulle(len(A),len(B[0]))\n",
    "  for i in range(len(A)):\n",
    "    for j in range(len(B[0])):\n",
    "      for k in range(len(A[0])):\n",
    "        s[i][j] += A[i][k]*B[k][j]\n",
    "  return s\n",
    "\n",
    "matricenulle(2**3,3)"
   ]
  },
  {
   "cell_type": "markdown",
   "metadata": {},
   "source": [
    "Bblablabla"
   ]
  },
  {
   "cell_type": "code",
   "execution_count": 3,
   "metadata": {
    "id": "cfHxylAJMV1k"
   },
   "outputs": [],
   "source": [
    "# Opérations sur les sous-ensembles fnis de N\n",
    "def cardinal(R):\n",
    "  s = 0\n",
    "  for i in range(len(R)):\n",
    "    if R[i] == 1 :\n",
    "      s += 1\n",
    "  return s\n",
    "\n",
    "def intersection(R,S):\n",
    "  a = min(len(R),len(S))\n",
    "  s = [0]*a\n",
    "  for i in range(a):\n",
    "    if R[i] == 1 and S[i] == 1 :\n",
    "      s[i] = 1\n",
    "  while s[-1] == 0:\n",
    "    s.pop()\n",
    "  return s\n",
    "\n",
    "def union(R,S):\n",
    "  a = max(len(R),len(S))\n",
    "  s = [0]*a\n",
    "  for i in range(a):\n",
    "    if (i < len(R) and R[i] == 1 ) or (i < len(S) and S[i] == 1) :\n",
    "      s[i] = 1\n",
    "  return s\n",
    "\n",
    "def conv1vers2(R1):\n",
    "  s = []\n",
    "  for i in range(len(R1)):\n",
    "    if R1[0] == 1 :\n",
    "      s += [i]\n",
    "  return s\n",
    "\n",
    "def conv1vers2(R2):\n",
    "  s = [0]*max(R2)\n",
    "  for i in range(len(R2)):\n",
    "    s[R2[i]] = 1\n",
    "  return s \n",
    "\n"
   ]
  },
  {
   "cell_type": "code",
   "execution_count": null,
   "metadata": {},
   "outputs": [],
   "source": []
  },
  {
   "cell_type": "code",
   "execution_count": 4,
   "metadata": {
    "colab": {
     "base_uri": "https://localhost:8080/"
    },
    "executionInfo": {
     "elapsed": 504,
     "status": "ok",
     "timestamp": 1664028594539,
     "user": {
      "displayName": "Ermilsonn DERYS",
      "userId": "14723043150314271648"
     },
     "user_tz": -120
    },
    "id": "t9rpb5ypSjar",
    "outputId": "2e3488be-6507-4292-e92b-45dd579775be"
   },
   "outputs": [],
   "source": [
    "# Suites de Syracuse\n",
    "def succ(k):\n",
    "  if k%2 == 0:\n",
    "    return k//2\n",
    "  return 3*k+1\n",
    "\n",
    "def syracuse(p,n):\n",
    "  s = [p]\n",
    "  for i in range(1,n):\n",
    "    s += [succ(s[i-1])]\n",
    "  return s \n",
    "\n",
    "def temps(p):\n",
    "  i = 1\n",
    "  s = syracuse(p,i)\n",
    "  while s[len(s)-1] != 1 :\n",
    "    i += 1\n",
    "    s = syracuse(p,i)\n",
    "  return i\n",
    "# Si la conjecture n'est pas vrai la condition while ne sera jamais verifié,\n",
    "# le programme tournera indéfiniment.\n",
    "\n",
    "def altitude(p):\n",
    "  s = syracuse(p,temps(p))\n",
    "  a = s[0]\n",
    "  for i in range(len(s)):\n",
    "    if a < s[i]:\n",
    "      a = s[i]\n",
    "  return a\n",
    "  "
   ]
  },
  {
   "cell_type": "code",
   "execution_count": 5,
   "metadata": {
    "colab": {
     "base_uri": "https://localhost:8080/"
    },
    "executionInfo": {
     "elapsed": 310,
     "status": "ok",
     "timestamp": 1664283733546,
     "user": {
      "displayName": "Ermilsonn DERYS",
      "userId": "14723043150314271648"
     },
     "user_tz": -120
    },
    "id": "VL3L1yHfU1e7",
    "outputId": "c26f5dbd-ca39-4bd5-bac4-6a90ab6c3968"
   },
   "outputs": [
    {
     "ename": "IndentationError",
     "evalue": "expected an indented block (125536111.py, line 24)",
     "output_type": "error",
     "traceback": [
      "\u001b[0;36m  Input \u001b[0;32mIn [5]\u001b[0;36m\u001b[0m\n\u001b[0;31m    def gray(n):\u001b[0m\n\u001b[0m                ^\u001b[0m\n\u001b[0;31mIndentationError\u001b[0m\u001b[0;31m:\u001b[0m expected an indented block\n"
     ]
    }
   ],
   "source": [
    "#Code de Gray\n",
    "\n",
    "def poids(x):\n",
    "  s = 0\n",
    "  for y in x :\n",
    "   if y != 0:\n",
    "     s += 1\n",
    "  return s\n",
    "\n",
    "def successeurGray(n,x):\n",
    "  a = poids(x)\n",
    "  y = x\n",
    "  if x == [1] + [0]*(n-1):\n",
    "    return y\n",
    "  if a%2 == 0:\n",
    "    y[n-1] = 1 - x[n-1]\n",
    "    return y\n",
    "  elif a%2 != 0:\n",
    "    for i in range(len(x)-1, -1,-1):\n",
    "      if x[i] == 1 :\n",
    "        y[i-1] = 1-x[i-1]\n",
    "        return y \n",
    "\n",
    "def gray(n):"
   ]
  },
  {
   "cell_type": "code",
   "execution_count": null,
   "metadata": {
    "id": "9IVCC3LqwXWG"
   },
   "outputs": [],
   "source": []
  },
  {
   "cell_type": "code",
   "execution_count": null,
   "metadata": {},
   "outputs": [],
   "source": []
  }
 ],
 "metadata": {
  "colab": {
   "authorship_tag": "ABX9TyOsc50lwqV7r0U6Vl9cS5Ds",
   "provenance": [],
   "toc_visible": true
  },
  "kernelspec": {
   "display_name": "Python 3 (ipykernel)",
   "language": "python",
   "name": "python3"
  },
  "language_info": {
   "codemirror_mode": {
    "name": "ipython",
    "version": 3
   },
   "file_extension": ".py",
   "mimetype": "text/x-python",
   "name": "python",
   "nbconvert_exporter": "python",
   "pygments_lexer": "ipython3",
   "version": "3.9.12"
  }
 },
 "nbformat": 4,
 "nbformat_minor": 4
}
