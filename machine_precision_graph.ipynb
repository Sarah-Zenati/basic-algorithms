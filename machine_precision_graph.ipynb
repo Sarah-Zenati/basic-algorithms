{
 "cells": [
  {
   "cell_type": "code",
   "execution_count": 14,
   "id": "bec5107b",
   "metadata": {},
   "outputs": [],
   "source": [
    "import numpy as np"
   ]
  },
  {
   "cell_type": "markdown",
   "id": "34e83803",
   "metadata": {},
   "source": [
    "## Machine precision"
   ]
  },
  {
   "cell_type": "code",
   "execution_count": 15,
   "id": "0eb844a0",
   "metadata": {},
   "outputs": [
    {
     "name": "stdout",
     "output_type": "stream",
     "text": [
      "b= 1.1102230246251565e-16, N = 53\n",
      "1/epsilon= 9007199254740992\n"
     ]
    }
   ],
   "source": [
    "b=1\n",
    "N=0\n",
    "while 1+ b != 1 :\n",
    "    b=b/2\n",
    "    N=N+1\n",
    "print(\"b= \"+str(b)+ \", N = \"+str(N)+\"\\n\"+\"1/epsilon= \"+str(2**N))"
   ]
  },
  {
   "cell_type": "markdown",
   "id": "72675c64",
   "metadata": {},
   "source": [
    "We want to numerically solve recurrent sequences defined by u0 = a, and for all n ≥ 0, un+1 = f(un), where f is a given function."
   ]
  },
  {
   "cell_type": "code",
   "execution_count": 16,
   "id": "23ea753d",
   "metadata": {},
   "outputs": [],
   "source": [
    "def suite(a,N,f):\n",
    "    u = a\n",
    "    \n",
    "    for n in range(N-1):\n",
    "        u = f(u)\n",
    "    \n",
    "    return u"
   ]
  },
  {
   "cell_type": "markdown",
   "id": "c226fad1",
   "metadata": {},
   "source": [
    "We modify the algorithm so that the function returns the vector of the first N elements of the sequence"
   ]
  },
  {
   "cell_type": "code",
   "execution_count": 17,
   "id": "e35fd56e",
   "metadata": {},
   "outputs": [],
   "source": [
    "def f(x):\n",
    "    return 2*x*(1-x)"
   ]
  },
  {
   "cell_type": "code",
   "execution_count": 18,
   "id": "e95c79b2",
   "metadata": {},
   "outputs": [],
   "source": [
    "def suite2(a,N,f):\n",
    "    u = a\n",
    "    U = np.zeros(N)\n",
    "    U[0] = u\n",
    "    for n in range(N-1):\n",
    "        u = f(u)\n",
    "        U[n+1] = u\n",
    "    \n",
    "    return U"
   ]
  },
  {
   "cell_type": "code",
   "execution_count": 20,
   "id": "499c40f1",
   "metadata": {},
   "outputs": [],
   "source": [
    "U = suite2(0.8,N,f)"
   ]
  },
  {
   "cell_type": "code",
   "execution_count": 21,
   "id": "033cfc8a",
   "metadata": {},
   "outputs": [],
   "source": [
    "import matplotlib.pyplot as plt"
   ]
  },
  {
   "cell_type": "code",
   "execution_count": 22,
   "id": "9795e62d",
   "metadata": {},
   "outputs": [
    {
     "data": {
      "text/plain": [
       "[<matplotlib.lines.Line2D at 0x7fc66142bd60>]"
      ]
     },
     "execution_count": 22,
     "metadata": {},
     "output_type": "execute_result"
    },
    {
     "data": {
      "image/png": "[encoded data removed]",
      "text/plain": [
       "<Figure size 432x288 with 1 Axes>"
      ]
     },
     "metadata": {
      "needs_background": "light"
     },
     "output_type": "display_data"
    }
   ],
   "source": [
    "plt.plot(U)"
   ]
  },
  {
   "cell_type": "code",
   "execution_count": null,
   "id": "291526c3",
   "metadata": {},
   "outputs": [],
   "source": []
  }
 ],
 "metadata": {
  "kernelspec": {
   "display_name": "Python 3 (ipykernel)",
   "language": "python",
   "name": "python3"
  },
  "language_info": {
   "codemirror_mode": {
    "name": "ipython",
    "version": 3
   },
   "file_extension": ".py",
   "mimetype": "text/x-python",
   "name": "python",
   "nbconvert_exporter": "python",
   "pygments_lexer": "ipython3",
   "version": "3.9.12"
  }
 },
 "nbformat": 4,
 "nbformat_minor": 5
}
