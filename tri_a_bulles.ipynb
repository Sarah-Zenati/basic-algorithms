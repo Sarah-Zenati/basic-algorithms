{
 "cells": [
  {
   "cell_type": "markdown",
   "id": "1a08523a",
   "metadata": {},
   "source": [
    "## Tri à Bulles"
   ]
  },
  {
   "cell_type": "code",
   "execution_count": 1,
   "id": "546643ec",
   "metadata": {},
   "outputs": [
    {
     "name": "stdout",
     "output_type": "stream",
     "text": [
      "Tableau trié:\n",
      "11\n",
      "12\n",
      "22\n",
      "25\n",
      "34\n",
      "64\n",
      "90\n"
     ]
    }
   ],
   "source": [
    "def bubble_sort(arr):\n",
    "    n = len(arr)\n",
    "    # Parcourt tous les éléments du tableau\n",
    "    for i in range(n):\n",
    "        # Derniers éléments déjà triés, donc on n'a pas besoin de les vérifier\n",
    "        for j in range(0, n-i-1):\n",
    "            # Traverse le tableau de 0 à n-i-1\n",
    "            # Swap si l'élément trouvé est plus grand que le suivant\n",
    "            if arr[j] > arr[j+1]:\n",
    "                arr[j], arr[j+1] = arr[j+1], arr[j]\n",
    "\n",
    "# Exemple d'utilisation\n",
    "arr = [64, 34, 25, 12, 22, 11, 90]\n",
    "bubble_sort(arr)\n",
    "print(\"Tableau trié:\")\n",
    "for i in range(len(arr)):\n",
    "    print(\"%d\" % arr[i]),\n"
   ]
  },
  {
   "cell_type": "code",
   "execution_count": null,
   "id": "1c1a8dbf",
   "metadata": {},
   "outputs": [],
   "source": []
  }
 ],
 "metadata": {
  "kernelspec": {
   "display_name": "Python 3 (ipykernel)",
   "language": "python",
   "name": "python3"
  },
  "language_info": {
   "codemirror_mode": {
    "name": "ipython",
    "version": 3
   },
   "file_extension": ".py",
   "mimetype": "text/x-python",
   "name": "python",
   "nbconvert_exporter": "python",
   "pygments_lexer": "ipython3",
   "version": "3.9.12"
  }
 },
 "nbformat": 4,
 "nbformat_minor": 5
}
