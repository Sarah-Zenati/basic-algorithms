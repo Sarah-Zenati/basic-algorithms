{
 "cells": [
  {
   "cell_type": "markdown",
   "id": "5c482410",
   "metadata": {},
   "source": [
    "## Tri fusion"
   ]
  },
  {
   "cell_type": "code",
   "execution_count": 1,
   "id": "55f879d8",
   "metadata": {},
   "outputs": [
    {
     "name": "stdout",
     "output_type": "stream",
     "text": [
      "Tableau trié : [5, 6, 7, 11, 12, 13]\n"
     ]
    }
   ],
   "source": [
    "def merge_sort(arr):\n",
    "    if len(arr) > 1:\n",
    "        mid = len(arr) // 2  # Trouver le milieu du tableau\n",
    "        left_half = arr[:mid]  # Diviser le tableau en deux moitiés\n",
    "        right_half = arr[mid:]\n",
    "\n",
    "        merge_sort(left_half)  # Tri de la première moitié\n",
    "        merge_sort(right_half)  # Tri de la deuxième moitié\n",
    "\n",
    "        # Fusionner les deux moitiés triées\n",
    "        i = j = k = 0\n",
    "        while i < len(left_half) and j < len(right_half):\n",
    "            if left_half[i] < right_half[j]:\n",
    "                arr[k] = left_half[i]\n",
    "                i += 1\n",
    "            else:\n",
    "                arr[k] = right_half[j]\n",
    "                j += 1\n",
    "            k += 1\n",
    "\n",
    "        # Ajouter les éléments restants des deux moitiés\n",
    "        while i < len(left_half):\n",
    "            arr[k] = left_half[i]\n",
    "            i += 1\n",
    "            k += 1\n",
    "        while j < len(right_half):\n",
    "            arr[k] = right_half[j]\n",
    "            j += 1\n",
    "            k += 1\n",
    "\n",
    "# Exemple d'utilisation :\n",
    "arr = [12, 11, 13, 5, 6, 7]\n",
    "merge_sort(arr)\n",
    "print(\"Tableau trié :\", arr)\n"
   ]
  }
 ],
 "metadata": {
  "kernelspec": {
   "display_name": "Python 3 (ipykernel)",
   "language": "python",
   "name": "python3"
  },
  "language_info": {
   "codemirror_mode": {
    "name": "ipython",
    "version": 3
   },
   "file_extension": ".py",
   "mimetype": "text/x-python",
   "name": "python",
   "nbconvert_exporter": "python",
   "pygments_lexer": "ipython3",
   "version": "3.9.12"
  }
 },
 "nbformat": 4,
 "nbformat_minor": 5
}
